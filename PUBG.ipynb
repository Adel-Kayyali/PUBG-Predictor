{
  "nbformat": 4,
  "nbformat_minor": 0,
  "metadata": {
    "colab": {
      "provenance": []
    },
    "kernelspec": {
      "name": "python3",
      "display_name": "Python 3"
    },
    "language_info": {
      "name": "python"
    }
  },
  "cells": [
    {
      "cell_type": "markdown",
      "source": [
        "<img src=\"https://wallpaperaccess.com/full/407315.png\" alt=\"Paris\" style=\"display: block;margin-left: auto;margin-right: auto;width: 100%;\">"
      ],
      "metadata": {
        "id": "6_YgcyksKxPz"
      }
    },
    {
      "cell_type": "markdown",
      "source": [
        "# **Objectives & Description**"
      ],
      "metadata": {
        "id": "HypzbkJ2JJFn"
      }
    },
    {
      "cell_type": "markdown",
      "source": [
        "## **Features Description**\n",
        "*     **groupId** - Players team ID\n",
        "*     **matchId** - Match ID\n",
        "*     **assists** - Number of assisted kills. The killed is actually scored for the another teammate.\n",
        "*     **boosts** - Number of boost items used by a player. These are for example: energy dring, painkillers, adrenaline syringe.\n",
        "*     **damageDealt** - Damage dealt to the enemy\n",
        "*     **DBNOs** - Down But No Out - when you lose all your HP but you're not killed yet. All you can do is only to crawl.\n",
        "*     **headshotKills** - Number of enemies killed with a headshot\n",
        "*     **heals** - Number of healing items used by a player. These are for example: bandages, first-aid kits\n",
        "*     **killPlace** - Ranking in a match based on kills.\n",
        "*     **killPoints** - Ranking in a match based on kills points.\n",
        "*     **kills** - Number of enemy players killed.\n",
        "*     **killStreaks** - Max number of enemy players killed in a short amount of time.\n",
        "*     **longestKill** - Longest distance between player and killed enemy.\n",
        "*     **matchDuration** - Duration of a mach in seconds.\n",
        "*     **matchType** - Type of match. There are three main modes: Solo, Duo or Squad. In this dataset however we have much more categories.\n",
        "*     **maxPlace** - The worst place we in the match.\n",
        "*     **numGroups** - Number of groups (teams) in the match.\n",
        "*     **revives** - Number of times this player revived teammates.\n",
        "*     **rideDistance** - Total distance traveled in vehicles measured in meters.\n",
        "*     **roadKills** - Number of kills from a car, bike, boat, etc.\n",
        "*     **swimDistance** - Total distance traveled by swimming (in meters).\n",
        "*     **teamKills** - Number teammate kills (due to friendly fire).\n",
        "*     **vehicleDestroys** - Number of vehicles destroyed.\n",
        "*     **walkDistance** - Total distance traveled on foot measured (in meters).\n",
        "*     **weaponsAcquired** - Number of weapons picked up.\n",
        "*     **winPoints** - Ranking in a match based on won matches.\n",
        "\n",
        "#### **Target Column**\n",
        "*     **winPlacePerc** - Normalised placement (rank). The 1st place is 1 and the last one is 0.\n"
      ],
      "metadata": {
        "id": "fOigv8SCnFux"
      }
    },
    {
      "cell_type": "markdown",
      "source": [
        "---"
      ],
      "metadata": {
        "id": "ZB0QBIrspkvd"
      }
    },
    {
      "cell_type": "markdown",
      "source": [
        "## **Objectives**\n",
        "1. Predict final placement from final in-game stats and initial player ratings as asked in the problem. Get yourself ANY result (make a submission).\n",
        "Done and Deployed on a Webapp. To check the app, press here.\n",
        "2. Do a simple EDA on the available data, and specify the meaningful attributes contained.\n",
        "Done in so many sections, Specially in [EDA & Preprocessing](https://colab.research.google.com/drive/1f1BS-lt363Y_5k50PNv0Ub0qsS1kWSna#scrollTo=evkNbrCCW7OS) section.\n",
        "3. Extract the correlation matrix and articulate what did you conclude from it about the data.\n",
        "done in the [Data Visualization - Correlation Matrix](https://colab.research.google.com/drive/1f1BS-lt363Y_5k50PNv0Ub0qsS1kWSna#scrollTo=2OW1Iqds0_6U&line=3&uniqifier=1) section.\n",
        "4. Extract 5 additional features you can get from available data and explain why you picked them and their correlation with the target.\n",
        "Done in The [Feature Engineering](https://colab.research.google.com/drive/1f1BS-lt363Y_5k50PNv0Ub0qsS1kWSna#scrollTo=JUz9Iurxe9jC) Section.\n",
        "5. Identify outliers.\n",
        "Done in the [Data Visualization - Outliers](https://colab.research.google.com/drive/1f1BS-lt363Y_5k50PNv0Ub0qsS1kWSna#scrollTo=8JYSBqaDdz5G) section.\n",
        "6. Identify hackers and explain your method. Done in the [Data Visualization - Cheaters Detecting](https://colab.research.google.com/drive/1f1BS-lt363Y_5k50PNv0Ub0qsS1kWSna#scrollTo=YrSUC4tSHXmf&line=1&uniqifier=1) section.\n",
        "7. Spot Away From Keyboard (AFK) players and explain your method.\n",
        "Done [Right Here](https://colab.research.google.com/drive/1f1BS-lt363Y_5k50PNv0Ub0qsS1kWSna#scrollTo=8n-GN-GIPJDD&line=1&uniqifier=1)."
      ],
      "metadata": {
        "id": "N49vMELbnfZK"
      }
    },
    {
      "cell_type": "markdown",
      "source": [
        "---"
      ],
      "metadata": {
        "id": "oL2htQARpnPU"
      }
    },
    {
      "cell_type": "code",
      "execution_count": 61,
      "metadata": {
        "id": "5OQ8ZhB6z5Zq"
      },
      "outputs": [],
      "source": [
        "import pandas as pd \n",
        "import numpy as np\n",
        "from matplotlib import pyplot as plt\n",
        "import seaborn as sns\n",
        "import pickle\n",
        "import warnings\n",
        "warnings.simplefilter(action='ignore', category=FutureWarning)"
      ]
    },
    {
      "cell_type": "markdown",
      "source": [
        "# **Importing the Data**"
      ],
      "metadata": {
        "id": "v_UKpC9EAy7W"
      }
    },
    {
      "cell_type": "code",
      "source": [
        "train = pd.read_csv('train_V2.csv')\n",
        "pd.set_option('display.max_columns', None)\n",
        "train"
      ],
      "metadata": {
        "colab": {
          "base_uri": "https://localhost:8080/",
          "height": 487
        },
        "id": "EoaThY2E0l0S",
        "outputId": "fe419790-b2f8-4554-95c6-d1601d3524ba"
      },
      "execution_count": 62,
      "outputs": [
        {
          "output_type": "execute_result",
          "data": {
            "text/plain": [
              "                     Id         groupId         matchId  assists  boosts  \\\n",
              "0        7f96b2f878858a  4d4b580de459be  a10357fd1a4a91        0       0   \n",
              "1        eef90569b9d03c  684d5656442f9e  aeb375fc57110c        0       0   \n",
              "2        1eaf90ac73de72  6a4a42c3245a74  110163d8bb94ae        1       0   \n",
              "3        4616d365dd2853  a930a9c79cd721  f1f1f4ef412d7e        0       0   \n",
              "4        315c96c26c9aac  de04010b3458dd  6dc8ff871e21e6        0       0   \n",
              "...                 ...             ...             ...      ...     ...   \n",
              "4446961  afff7f652dbc10  d238e426f50de7  18492834ce5635        0       0   \n",
              "4446962  f4197cf374e6c0  408cdb5c46b2ac  ee854b837376d9        0       1   \n",
              "4446963  e1948b1295c88a  e26ac84bdf7cef  6d0cd12784f1ab        0       0   \n",
              "4446964  cc032cdd73b7ac  c2223f35411394  c9c701d0ad758a        0       4   \n",
              "4446965  0d8e7ed728b6fd  8c74f72fedf5ff  62a16aabcc095c        0       2   \n",
              "\n",
              "         damageDealt  DBNOs  headshotKills  heals  killPlace  killPoints  \\\n",
              "0               0.00      0              0      0         60        1241   \n",
              "1              91.47      0              0      0         57           0   \n",
              "2              68.00      0              0      0         47           0   \n",
              "3              32.90      0              0      0         75           0   \n",
              "4             100.00      0              0      0         45           0   \n",
              "...              ...    ...            ...    ...        ...         ...   \n",
              "4446961         0.00      0              0      0         74        1029   \n",
              "4446962        44.15      0              0      0         69           0   \n",
              "4446963        59.06      0              0      0         66           0   \n",
              "4446964       180.40      1              1      2         11           0   \n",
              "4446965       268.00      0              0      1         18           0   \n",
              "\n",
              "         kills  killStreaks  longestKill  matchDuration  matchType  maxPlace  \\\n",
              "0            0            0         0.00           1306  squad-fpp        28   \n",
              "1            0            0         0.00           1777  squad-fpp        26   \n",
              "2            0            0         0.00           1318        duo        50   \n",
              "3            0            0         0.00           1436  squad-fpp        31   \n",
              "4            1            1        58.53           1424   solo-fpp        97   \n",
              "...        ...          ...          ...            ...        ...       ...   \n",
              "4446961      0            0         0.00           1873  squad-fpp        29   \n",
              "4446962      0            0         0.00           1435       solo        93   \n",
              "4446963      0            0         0.00           1321  squad-fpp        28   \n",
              "4446964      2            1        98.50           1373  squad-fpp        26   \n",
              "4446965      2            1        78.25           1766   solo-fpp        98   \n",
              "\n",
              "         numGroups  rankPoints  revives  rideDistance  roadKills  \\\n",
              "0               26          -1        0        0.0000          0   \n",
              "1               25        1484        0        0.0045          0   \n",
              "2               47        1491        0        0.0000          0   \n",
              "3               30        1408        0        0.0000          0   \n",
              "4               95        1560        0        0.0000          0   \n",
              "...            ...         ...      ...           ...        ...   \n",
              "4446961         28          -1        0     1292.0000          0   \n",
              "4446962         93        1501        0        0.0000          0   \n",
              "4446963         28        1500        0        0.0000          0   \n",
              "4446964         25        1418        2        0.0000          0   \n",
              "4446965         94        1590        0     1369.0000          0   \n",
              "\n",
              "         swimDistance  teamKills  vehicleDestroys  walkDistance  \\\n",
              "0               0.000          0                0        244.80   \n",
              "1              11.040          0                0       1434.00   \n",
              "2               0.000          0                0        161.80   \n",
              "3               0.000          0                0        202.70   \n",
              "4               0.000          0                0         49.75   \n",
              "...               ...        ...              ...           ...   \n",
              "4446961         0.000          0                0       1019.00   \n",
              "4446962         0.000          0                0         81.70   \n",
              "4446963         2.184          0                0        788.70   \n",
              "4446964         0.000          0                0       2748.00   \n",
              "4446965         0.000          0                0       1244.00   \n",
              "\n",
              "         weaponsAcquired  winPoints  winPlacePerc  \n",
              "0                      1       1466        0.4444  \n",
              "1                      5          0        0.6400  \n",
              "2                      2          0        0.7755  \n",
              "3                      3          0        0.1667  \n",
              "4                      2          0        0.1875  \n",
              "...                  ...        ...           ...  \n",
              "4446961                3       1507        0.1786  \n",
              "4446962                6          0        0.2935  \n",
              "4446963                4          0        0.4815  \n",
              "4446964                8          0        0.8000  \n",
              "4446965                5          0        0.5464  \n",
              "\n",
              "[4446966 rows x 29 columns]"
            ],
            "text/html": [
              "\n",
              "  <div id=\"df-bf96c788-074c-4720-ac45-df02119bc58b\">\n",
              "    <div class=\"colab-df-container\">\n",
              "      <div>\n",
              "<style scoped>\n",
              "    .dataframe tbody tr th:only-of-type {\n",
              "        vertical-align: middle;\n",
              "    }\n",
              "\n",
              "    .dataframe tbody tr th {\n",
              "        vertical-align: top;\n",
              "    }\n",
              "\n",
              "    .dataframe thead th {\n",
              "        text-align: right;\n",
              "    }\n",
              "</style>\n",
              "<table border=\"1\" class=\"dataframe\">\n",
              "  <thead>\n",
              "    <tr style=\"text-align: right;\">\n",
              "      <th></th>\n",
              "      <th>Id</th>\n",
              "      <th>groupId</th>\n",
              "      <th>matchId</th>\n",
              "      <th>assists</th>\n",
              "      <th>boosts</th>\n",
              "      <th>damageDealt</th>\n",
              "      <th>DBNOs</th>\n",
              "      <th>headshotKills</th>\n",
              "      <th>heals</th>\n",
              "      <th>killPlace</th>\n",
              "      <th>killPoints</th>\n",
              "      <th>kills</th>\n",
              "      <th>killStreaks</th>\n",
              "      <th>longestKill</th>\n",
              "      <th>matchDuration</th>\n",
              "      <th>matchType</th>\n",
              "      <th>maxPlace</th>\n",
              "      <th>numGroups</th>\n",
              "      <th>rankPoints</th>\n",
              "      <th>revives</th>\n",
              "      <th>rideDistance</th>\n",
              "      <th>roadKills</th>\n",
              "      <th>swimDistance</th>\n",
              "      <th>teamKills</th>\n",
              "      <th>vehicleDestroys</th>\n",
              "      <th>walkDistance</th>\n",
              "      <th>weaponsAcquired</th>\n",
              "      <th>winPoints</th>\n",
              "      <th>winPlacePerc</th>\n",
              "    </tr>\n",
              "  </thead>\n",
              "  <tbody>\n",
              "    <tr>\n",
              "      <th>0</th>\n",
              "      <td>7f96b2f878858a</td>\n",
              "      <td>4d4b580de459be</td>\n",
              "      <td>a10357fd1a4a91</td>\n",
              "      <td>0</td>\n",
              "      <td>0</td>\n",
              "      <td>0.00</td>\n",
              "      <td>0</td>\n",
              "      <td>0</td>\n",
              "      <td>0</td>\n",
              "      <td>60</td>\n",
              "      <td>1241</td>\n",
              "      <td>0</td>\n",
              "      <td>0</td>\n",
              "      <td>0.00</td>\n",
              "      <td>1306</td>\n",
              "      <td>squad-fpp</td>\n",
              "      <td>28</td>\n",
              "      <td>26</td>\n",
              "      <td>-1</td>\n",
              "      <td>0</td>\n",
              "      <td>0.0000</td>\n",
              "      <td>0</td>\n",
              "      <td>0.000</td>\n",
              "      <td>0</td>\n",
              "      <td>0</td>\n",
              "      <td>244.80</td>\n",
              "      <td>1</td>\n",
              "      <td>1466</td>\n",
              "      <td>0.4444</td>\n",
              "    </tr>\n",
              "    <tr>\n",
              "      <th>1</th>\n",
              "      <td>eef90569b9d03c</td>\n",
              "      <td>684d5656442f9e</td>\n",
              "      <td>aeb375fc57110c</td>\n",
              "      <td>0</td>\n",
              "      <td>0</td>\n",
              "      <td>91.47</td>\n",
              "      <td>0</td>\n",
              "      <td>0</td>\n",
              "      <td>0</td>\n",
              "      <td>57</td>\n",
              "      <td>0</td>\n",
              "      <td>0</td>\n",
              "      <td>0</td>\n",
              "      <td>0.00</td>\n",
              "      <td>1777</td>\n",
              "      <td>squad-fpp</td>\n",
              "      <td>26</td>\n",
              "      <td>25</td>\n",
              "      <td>1484</td>\n",
              "      <td>0</td>\n",
              "      <td>0.0045</td>\n",
              "      <td>0</td>\n",
              "      <td>11.040</td>\n",
              "      <td>0</td>\n",
              "      <td>0</td>\n",
              "      <td>1434.00</td>\n",
              "      <td>5</td>\n",
              "      <td>0</td>\n",
              "      <td>0.6400</td>\n",
              "    </tr>\n",
              "    <tr>\n",
              "      <th>2</th>\n",
              "      <td>1eaf90ac73de72</td>\n",
              "      <td>6a4a42c3245a74</td>\n",
              "      <td>110163d8bb94ae</td>\n",
              "      <td>1</td>\n",
              "      <td>0</td>\n",
              "      <td>68.00</td>\n",
              "      <td>0</td>\n",
              "      <td>0</td>\n",
              "      <td>0</td>\n",
              "      <td>47</td>\n",
              "      <td>0</td>\n",
              "      <td>0</td>\n",
              "      <td>0</td>\n",
              "      <td>0.00</td>\n",
              "      <td>1318</td>\n",
              "      <td>duo</td>\n",
              "      <td>50</td>\n",
              "      <td>47</td>\n",
              "      <td>1491</td>\n",
              "      <td>0</td>\n",
              "      <td>0.0000</td>\n",
              "      <td>0</td>\n",
              "      <td>0.000</td>\n",
              "      <td>0</td>\n",
              "      <td>0</td>\n",
              "      <td>161.80</td>\n",
              "      <td>2</td>\n",
              "      <td>0</td>\n",
              "      <td>0.7755</td>\n",
              "    </tr>\n",
              "    <tr>\n",
              "      <th>3</th>\n",
              "      <td>4616d365dd2853</td>\n",
              "      <td>a930a9c79cd721</td>\n",
              "      <td>f1f1f4ef412d7e</td>\n",
              "      <td>0</td>\n",
              "      <td>0</td>\n",
              "      <td>32.90</td>\n",
              "      <td>0</td>\n",
              "      <td>0</td>\n",
              "      <td>0</td>\n",
              "      <td>75</td>\n",
              "      <td>0</td>\n",
              "      <td>0</td>\n",
              "      <td>0</td>\n",
              "      <td>0.00</td>\n",
              "      <td>1436</td>\n",
              "      <td>squad-fpp</td>\n",
              "      <td>31</td>\n",
              "      <td>30</td>\n",
              "      <td>1408</td>\n",
              "      <td>0</td>\n",
              "      <td>0.0000</td>\n",
              "      <td>0</td>\n",
              "      <td>0.000</td>\n",
              "      <td>0</td>\n",
              "      <td>0</td>\n",
              "      <td>202.70</td>\n",
              "      <td>3</td>\n",
              "      <td>0</td>\n",
              "      <td>0.1667</td>\n",
              "    </tr>\n",
              "    <tr>\n",
              "      <th>4</th>\n",
              "      <td>315c96c26c9aac</td>\n",
              "      <td>de04010b3458dd</td>\n",
              "      <td>6dc8ff871e21e6</td>\n",
              "      <td>0</td>\n",
              "      <td>0</td>\n",
              "      <td>100.00</td>\n",
              "      <td>0</td>\n",
              "      <td>0</td>\n",
              "      <td>0</td>\n",
              "      <td>45</td>\n",
              "      <td>0</td>\n",
              "      <td>1</td>\n",
              "      <td>1</td>\n",
              "      <td>58.53</td>\n",
              "      <td>1424</td>\n",
              "      <td>solo-fpp</td>\n",
              "      <td>97</td>\n",
              "      <td>95</td>\n",
              "      <td>1560</td>\n",
              "      <td>0</td>\n",
              "      <td>0.0000</td>\n",
              "      <td>0</td>\n",
              "      <td>0.000</td>\n",
              "      <td>0</td>\n",
              "      <td>0</td>\n",
              "      <td>49.75</td>\n",
              "      <td>2</td>\n",
              "      <td>0</td>\n",
              "      <td>0.1875</td>\n",
              "    </tr>\n",
              "    <tr>\n",
              "      <th>...</th>\n",
              "      <td>...</td>\n",
              "      <td>...</td>\n",
              "      <td>...</td>\n",
              "      <td>...</td>\n",
              "      <td>...</td>\n",
              "      <td>...</td>\n",
              "      <td>...</td>\n",
              "      <td>...</td>\n",
              "      <td>...</td>\n",
              "      <td>...</td>\n",
              "      <td>...</td>\n",
              "      <td>...</td>\n",
              "      <td>...</td>\n",
              "      <td>...</td>\n",
              "      <td>...</td>\n",
              "      <td>...</td>\n",
              "      <td>...</td>\n",
              "      <td>...</td>\n",
              "      <td>...</td>\n",
              "      <td>...</td>\n",
              "      <td>...</td>\n",
              "      <td>...</td>\n",
              "      <td>...</td>\n",
              "      <td>...</td>\n",
              "      <td>...</td>\n",
              "      <td>...</td>\n",
              "      <td>...</td>\n",
              "      <td>...</td>\n",
              "      <td>...</td>\n",
              "    </tr>\n",
              "    <tr>\n",
              "      <th>4446961</th>\n",
              "      <td>afff7f652dbc10</td>\n",
              "      <td>d238e426f50de7</td>\n",
              "      <td>18492834ce5635</td>\n",
              "      <td>0</td>\n",
              "      <td>0</td>\n",
              "      <td>0.00</td>\n",
              "      <td>0</td>\n",
              "      <td>0</td>\n",
              "      <td>0</td>\n",
              "      <td>74</td>\n",
              "      <td>1029</td>\n",
              "      <td>0</td>\n",
              "      <td>0</td>\n",
              "      <td>0.00</td>\n",
              "      <td>1873</td>\n",
              "      <td>squad-fpp</td>\n",
              "      <td>29</td>\n",
              "      <td>28</td>\n",
              "      <td>-1</td>\n",
              "      <td>0</td>\n",
              "      <td>1292.0000</td>\n",
              "      <td>0</td>\n",
              "      <td>0.000</td>\n",
              "      <td>0</td>\n",
              "      <td>0</td>\n",
              "      <td>1019.00</td>\n",
              "      <td>3</td>\n",
              "      <td>1507</td>\n",
              "      <td>0.1786</td>\n",
              "    </tr>\n",
              "    <tr>\n",
              "      <th>4446962</th>\n",
              "      <td>f4197cf374e6c0</td>\n",
              "      <td>408cdb5c46b2ac</td>\n",
              "      <td>ee854b837376d9</td>\n",
              "      <td>0</td>\n",
              "      <td>1</td>\n",
              "      <td>44.15</td>\n",
              "      <td>0</td>\n",
              "      <td>0</td>\n",
              "      <td>0</td>\n",
              "      <td>69</td>\n",
              "      <td>0</td>\n",
              "      <td>0</td>\n",
              "      <td>0</td>\n",
              "      <td>0.00</td>\n",
              "      <td>1435</td>\n",
              "      <td>solo</td>\n",
              "      <td>93</td>\n",
              "      <td>93</td>\n",
              "      <td>1501</td>\n",
              "      <td>0</td>\n",
              "      <td>0.0000</td>\n",
              "      <td>0</td>\n",
              "      <td>0.000</td>\n",
              "      <td>0</td>\n",
              "      <td>0</td>\n",
              "      <td>81.70</td>\n",
              "      <td>6</td>\n",
              "      <td>0</td>\n",
              "      <td>0.2935</td>\n",
              "    </tr>\n",
              "    <tr>\n",
              "      <th>4446963</th>\n",
              "      <td>e1948b1295c88a</td>\n",
              "      <td>e26ac84bdf7cef</td>\n",
              "      <td>6d0cd12784f1ab</td>\n",
              "      <td>0</td>\n",
              "      <td>0</td>\n",
              "      <td>59.06</td>\n",
              "      <td>0</td>\n",
              "      <td>0</td>\n",
              "      <td>0</td>\n",
              "      <td>66</td>\n",
              "      <td>0</td>\n",
              "      <td>0</td>\n",
              "      <td>0</td>\n",
              "      <td>0.00</td>\n",
              "      <td>1321</td>\n",
              "      <td>squad-fpp</td>\n",
              "      <td>28</td>\n",
              "      <td>28</td>\n",
              "      <td>1500</td>\n",
              "      <td>0</td>\n",
              "      <td>0.0000</td>\n",
              "      <td>0</td>\n",
              "      <td>2.184</td>\n",
              "      <td>0</td>\n",
              "      <td>0</td>\n",
              "      <td>788.70</td>\n",
              "      <td>4</td>\n",
              "      <td>0</td>\n",
              "      <td>0.4815</td>\n",
              "    </tr>\n",
              "    <tr>\n",
              "      <th>4446964</th>\n",
              "      <td>cc032cdd73b7ac</td>\n",
              "      <td>c2223f35411394</td>\n",
              "      <td>c9c701d0ad758a</td>\n",
              "      <td>0</td>\n",
              "      <td>4</td>\n",
              "      <td>180.40</td>\n",
              "      <td>1</td>\n",
              "      <td>1</td>\n",
              "      <td>2</td>\n",
              "      <td>11</td>\n",
              "      <td>0</td>\n",
              "      <td>2</td>\n",
              "      <td>1</td>\n",
              "      <td>98.50</td>\n",
              "      <td>1373</td>\n",
              "      <td>squad-fpp</td>\n",
              "      <td>26</td>\n",
              "      <td>25</td>\n",
              "      <td>1418</td>\n",
              "      <td>2</td>\n",
              "      <td>0.0000</td>\n",
              "      <td>0</td>\n",
              "      <td>0.000</td>\n",
              "      <td>0</td>\n",
              "      <td>0</td>\n",
              "      <td>2748.00</td>\n",
              "      <td>8</td>\n",
              "      <td>0</td>\n",
              "      <td>0.8000</td>\n",
              "    </tr>\n",
              "    <tr>\n",
              "      <th>4446965</th>\n",
              "      <td>0d8e7ed728b6fd</td>\n",
              "      <td>8c74f72fedf5ff</td>\n",
              "      <td>62a16aabcc095c</td>\n",
              "      <td>0</td>\n",
              "      <td>2</td>\n",
              "      <td>268.00</td>\n",
              "      <td>0</td>\n",
              "      <td>0</td>\n",
              "      <td>1</td>\n",
              "      <td>18</td>\n",
              "      <td>0</td>\n",
              "      <td>2</td>\n",
              "      <td>1</td>\n",
              "      <td>78.25</td>\n",
              "      <td>1766</td>\n",
              "      <td>solo-fpp</td>\n",
              "      <td>98</td>\n",
              "      <td>94</td>\n",
              "      <td>1590</td>\n",
              "      <td>0</td>\n",
              "      <td>1369.0000</td>\n",
              "      <td>0</td>\n",
              "      <td>0.000</td>\n",
              "      <td>0</td>\n",
              "      <td>0</td>\n",
              "      <td>1244.00</td>\n",
              "      <td>5</td>\n",
              "      <td>0</td>\n",
              "      <td>0.5464</td>\n",
              "    </tr>\n",
              "  </tbody>\n",
              "</table>\n",
              "<p>4446966 rows × 29 columns</p>\n",
              "</div>\n",
              "      <button class=\"colab-df-convert\" onclick=\"convertToInteractive('df-bf96c788-074c-4720-ac45-df02119bc58b')\"\n",
              "              title=\"Convert this dataframe to an interactive table.\"\n",
              "              style=\"display:none;\">\n",
              "        \n",
              "  <svg xmlns=\"http://www.w3.org/2000/svg\" height=\"24px\"viewBox=\"0 0 24 24\"\n",
              "       width=\"24px\">\n",
              "    <path d=\"M0 0h24v24H0V0z\" fill=\"none\"/>\n",
              "    <path d=\"M18.56 5.44l.94 2.06.94-2.06 2.06-.94-2.06-.94-.94-2.06-.94 2.06-2.06.94zm-11 1L8.5 8.5l.94-2.06 2.06-.94-2.06-.94L8.5 2.5l-.94 2.06-2.06.94zm10 10l.94 2.06.94-2.06 2.06-.94-2.06-.94-.94-2.06-.94 2.06-2.06.94z\"/><path d=\"M17.41 7.96l-1.37-1.37c-.4-.4-.92-.59-1.43-.59-.52 0-1.04.2-1.43.59L10.3 9.45l-7.72 7.72c-.78.78-.78 2.05 0 2.83L4 21.41c.39.39.9.59 1.41.59.51 0 1.02-.2 1.41-.59l7.78-7.78 2.81-2.81c.8-.78.8-2.07 0-2.86zM5.41 20L4 18.59l7.72-7.72 1.47 1.35L5.41 20z\"/>\n",
              "  </svg>\n",
              "      </button>\n",
              "      \n",
              "  <style>\n",
              "    .colab-df-container {\n",
              "      display:flex;\n",
              "      flex-wrap:wrap;\n",
              "      gap: 12px;\n",
              "    }\n",
              "\n",
              "    .colab-df-convert {\n",
              "      background-color: #E8F0FE;\n",
              "      border: none;\n",
              "      border-radius: 50%;\n",
              "      cursor: pointer;\n",
              "      display: none;\n",
              "      fill: #1967D2;\n",
              "      height: 32px;\n",
              "      padding: 0 0 0 0;\n",
              "      width: 32px;\n",
              "    }\n",
              "\n",
              "    .colab-df-convert:hover {\n",
              "      background-color: #E2EBFA;\n",
              "      box-shadow: 0px 1px 2px rgba(60, 64, 67, 0.3), 0px 1px 3px 1px rgba(60, 64, 67, 0.15);\n",
              "      fill: #174EA6;\n",
              "    }\n",
              "\n",
              "    [theme=dark] .colab-df-convert {\n",
              "      background-color: #3B4455;\n",
              "      fill: #D2E3FC;\n",
              "    }\n",
              "\n",
              "    [theme=dark] .colab-df-convert:hover {\n",
              "      background-color: #434B5C;\n",
              "      box-shadow: 0px 1px 3px 1px rgba(0, 0, 0, 0.15);\n",
              "      filter: drop-shadow(0px 1px 2px rgba(0, 0, 0, 0.3));\n",
              "      fill: #FFFFFF;\n",
              "    }\n",
              "  </style>\n",
              "\n",
              "      <script>\n",
              "        const buttonEl =\n",
              "          document.querySelector('#df-bf96c788-074c-4720-ac45-df02119bc58b button.colab-df-convert');\n",
              "        buttonEl.style.display =\n",
              "          google.colab.kernel.accessAllowed ? 'block' : 'none';\n",
              "\n",
              "        async function convertToInteractive(key) {\n",
              "          const element = document.querySelector('#df-bf96c788-074c-4720-ac45-df02119bc58b');\n",
              "          const dataTable =\n",
              "            await google.colab.kernel.invokeFunction('convertToInteractive',\n",
              "                                                     [key], {});\n",
              "          if (!dataTable) return;\n",
              "\n",
              "          const docLinkHtml = 'Like what you see? Visit the ' +\n",
              "            '<a target=\"_blank\" href=https://colab.research.google.com/notebooks/data_table.ipynb>data table notebook</a>'\n",
              "            + ' to learn more about interactive tables.';\n",
              "          element.innerHTML = '';\n",
              "          dataTable['output_type'] = 'display_data';\n",
              "          await google.colab.output.renderOutput(dataTable, element);\n",
              "          const docLink = document.createElement('div');\n",
              "          docLink.innerHTML = docLinkHtml;\n",
              "          element.appendChild(docLink);\n",
              "        }\n",
              "      </script>\n",
              "    </div>\n",
              "  </div>\n",
              "  "
            ]
          },
          "metadata": {},
          "execution_count": 62
        }
      ]
    },
    {
      "cell_type": "markdown",
      "source": [
        "\n",
        "\n",
        "---\n"
      ],
      "metadata": {
        "id": "q_X8UYryjhk6"
      }
    },
    {
      "cell_type": "markdown",
      "source": [
        "# **EDA & Preprocessing**"
      ],
      "metadata": {
        "id": "evkNbrCCW7OS"
      }
    },
    {
      "cell_type": "code",
      "source": [
        "train.info()"
      ],
      "metadata": {
        "colab": {
          "base_uri": "https://localhost:8080/"
        },
        "id": "9vcnchDhXZwF",
        "outputId": "55a0f236-82b2-4c84-efba-9ec5d1269f0f"
      },
      "execution_count": 63,
      "outputs": [
        {
          "output_type": "stream",
          "name": "stdout",
          "text": [
            "<class 'pandas.core.frame.DataFrame'>\n",
            "RangeIndex: 4446966 entries, 0 to 4446965\n",
            "Data columns (total 29 columns):\n",
            " #   Column           Dtype  \n",
            "---  ------           -----  \n",
            " 0   Id               object \n",
            " 1   groupId          object \n",
            " 2   matchId          object \n",
            " 3   assists          int64  \n",
            " 4   boosts           int64  \n",
            " 5   damageDealt      float64\n",
            " 6   DBNOs            int64  \n",
            " 7   headshotKills    int64  \n",
            " 8   heals            int64  \n",
            " 9   killPlace        int64  \n",
            " 10  killPoints       int64  \n",
            " 11  kills            int64  \n",
            " 12  killStreaks      int64  \n",
            " 13  longestKill      float64\n",
            " 14  matchDuration    int64  \n",
            " 15  matchType        object \n",
            " 16  maxPlace         int64  \n",
            " 17  numGroups        int64  \n",
            " 18  rankPoints       int64  \n",
            " 19  revives          int64  \n",
            " 20  rideDistance     float64\n",
            " 21  roadKills        int64  \n",
            " 22  swimDistance     float64\n",
            " 23  teamKills        int64  \n",
            " 24  vehicleDestroys  int64  \n",
            " 25  walkDistance     float64\n",
            " 26  weaponsAcquired  int64  \n",
            " 27  winPoints        int64  \n",
            " 28  winPlacePerc     float64\n",
            "dtypes: float64(6), int64(19), object(4)\n",
            "memory usage: 983.9+ MB\n"
          ]
        }
      ]
    },
    {
      "cell_type": "markdown",
      "source": [
        "I have only 1 Categorical feature, all the others are Numerical."
      ],
      "metadata": {
        "id": "W_7rR5-aXpsf"
      }
    },
    {
      "cell_type": "code",
      "source": [
        "train.describe()"
      ],
      "metadata": {
        "colab": {
          "base_uri": "https://localhost:8080/",
          "height": 364
        },
        "id": "hqDNoE42Xb1s",
        "outputId": "414d4a71-63f1-4d00-be1f-7dcc95426d9f"
      },
      "execution_count": 64,
      "outputs": [
        {
          "output_type": "execute_result",
          "data": {
            "text/plain": [
              "            assists        boosts   damageDealt         DBNOs  headshotKills  \\\n",
              "count  4.446966e+06  4.446966e+06  4.446966e+06  4.446966e+06   4.446966e+06   \n",
              "mean   2.338149e-01  1.106908e+00  1.307171e+02  6.578755e-01   2.268196e-01   \n",
              "std    5.885731e-01  1.715794e+00  1.707806e+02  1.145743e+00   6.021553e-01   \n",
              "min    0.000000e+00  0.000000e+00  0.000000e+00  0.000000e+00   0.000000e+00   \n",
              "25%    0.000000e+00  0.000000e+00  0.000000e+00  0.000000e+00   0.000000e+00   \n",
              "50%    0.000000e+00  0.000000e+00  8.424000e+01  0.000000e+00   0.000000e+00   \n",
              "75%    0.000000e+00  2.000000e+00  1.860000e+02  1.000000e+00   0.000000e+00   \n",
              "max    2.200000e+01  3.300000e+01  6.616000e+03  5.300000e+01   6.400000e+01   \n",
              "\n",
              "              heals     killPlace    killPoints         kills   killStreaks  \\\n",
              "count  4.446966e+06  4.446966e+06  4.446966e+06  4.446966e+06  4.446966e+06   \n",
              "mean   1.370147e+00  4.759935e+01  5.050060e+02  9.247833e-01  5.439551e-01   \n",
              "std    2.679982e+00  2.746294e+01  6.275049e+02  1.558445e+00  7.109721e-01   \n",
              "min    0.000000e+00  1.000000e+00  0.000000e+00  0.000000e+00  0.000000e+00   \n",
              "25%    0.000000e+00  2.400000e+01  0.000000e+00  0.000000e+00  0.000000e+00   \n",
              "50%    0.000000e+00  4.700000e+01  0.000000e+00  0.000000e+00  0.000000e+00   \n",
              "75%    2.000000e+00  7.100000e+01  1.172000e+03  1.000000e+00  1.000000e+00   \n",
              "max    8.000000e+01  1.010000e+02  2.170000e+03  7.200000e+01  2.000000e+01   \n",
              "\n",
              "        longestKill  matchDuration      maxPlace     numGroups    rankPoints  \\\n",
              "count  4.446966e+06   4.446966e+06  4.446966e+06  4.446966e+06  4.446966e+06   \n",
              "mean   2.299759e+01   1.579506e+03  4.450467e+01  4.300759e+01  8.920105e+02   \n",
              "std    5.097262e+01   2.587399e+02  2.382811e+01  2.328949e+01  7.366478e+02   \n",
              "min    0.000000e+00   9.000000e+00  1.000000e+00  1.000000e+00 -1.000000e+00   \n",
              "25%    0.000000e+00   1.367000e+03  2.800000e+01  2.700000e+01 -1.000000e+00   \n",
              "50%    0.000000e+00   1.438000e+03  3.000000e+01  3.000000e+01  1.443000e+03   \n",
              "75%    2.132000e+01   1.851000e+03  4.900000e+01  4.700000e+01  1.500000e+03   \n",
              "max    1.094000e+03   2.237000e+03  1.000000e+02  1.000000e+02  5.910000e+03   \n",
              "\n",
              "            revives  rideDistance     roadKills  swimDistance     teamKills  \\\n",
              "count  4.446966e+06  4.446966e+06  4.446966e+06  4.446966e+06  4.446966e+06   \n",
              "mean   1.646590e-01  6.061157e+02  3.496091e-03  4.509322e+00  2.386841e-02   \n",
              "std    4.721671e-01  1.498344e+03  7.337297e-02  3.050220e+01  1.673935e-01   \n",
              "min    0.000000e+00  0.000000e+00  0.000000e+00  0.000000e+00  0.000000e+00   \n",
              "25%    0.000000e+00  0.000000e+00  0.000000e+00  0.000000e+00  0.000000e+00   \n",
              "50%    0.000000e+00  0.000000e+00  0.000000e+00  0.000000e+00  0.000000e+00   \n",
              "75%    0.000000e+00  1.909750e-01  0.000000e+00  0.000000e+00  0.000000e+00   \n",
              "max    3.900000e+01  4.071000e+04  1.800000e+01  3.823000e+03  1.200000e+01   \n",
              "\n",
              "       vehicleDestroys  walkDistance  weaponsAcquired     winPoints  \\\n",
              "count     4.446966e+06  4.446966e+06     4.446966e+06  4.446966e+06   \n",
              "mean      7.918208e-03  1.154218e+03     3.660488e+00  6.064601e+02   \n",
              "std       9.261157e-02  1.183497e+03     2.456544e+00  7.397004e+02   \n",
              "min       0.000000e+00  0.000000e+00     0.000000e+00  0.000000e+00   \n",
              "25%       0.000000e+00  1.551000e+02     2.000000e+00  0.000000e+00   \n",
              "50%       0.000000e+00  6.856000e+02     3.000000e+00  0.000000e+00   \n",
              "75%       0.000000e+00  1.976000e+03     5.000000e+00  1.495000e+03   \n",
              "max       5.000000e+00  2.578000e+04     2.360000e+02  2.013000e+03   \n",
              "\n",
              "       winPlacePerc  \n",
              "count  4.446965e+06  \n",
              "mean   4.728216e-01  \n",
              "std    3.074050e-01  \n",
              "min    0.000000e+00  \n",
              "25%    2.000000e-01  \n",
              "50%    4.583000e-01  \n",
              "75%    7.407000e-01  \n",
              "max    1.000000e+00  "
            ],
            "text/html": [
              "\n",
              "  <div id=\"df-cb124b0b-cbcc-483c-a03c-7ab329ba7792\">\n",
              "    <div class=\"colab-df-container\">\n",
              "      <div>\n",
              "<style scoped>\n",
              "    .dataframe tbody tr th:only-of-type {\n",
              "        vertical-align: middle;\n",
              "    }\n",
              "\n",
              "    .dataframe tbody tr th {\n",
              "        vertical-align: top;\n",
              "    }\n",
              "\n",
              "    .dataframe thead th {\n",
              "        text-align: right;\n",
              "    }\n",
              "</style>\n",
              "<table border=\"1\" class=\"dataframe\">\n",
              "  <thead>\n",
              "    <tr style=\"text-align: right;\">\n",
              "      <th></th>\n",
              "      <th>assists</th>\n",
              "      <th>boosts</th>\n",
              "      <th>damageDealt</th>\n",
              "      <th>DBNOs</th>\n",
              "      <th>headshotKills</th>\n",
              "      <th>heals</th>\n",
              "      <th>killPlace</th>\n",
              "      <th>killPoints</th>\n",
              "      <th>kills</th>\n",
              "      <th>killStreaks</th>\n",
              "      <th>longestKill</th>\n",
              "      <th>matchDuration</th>\n",
              "      <th>maxPlace</th>\n",
              "      <th>numGroups</th>\n",
              "      <th>rankPoints</th>\n",
              "      <th>revives</th>\n",
              "      <th>rideDistance</th>\n",
              "      <th>roadKills</th>\n",
              "      <th>swimDistance</th>\n",
              "      <th>teamKills</th>\n",
              "      <th>vehicleDestroys</th>\n",
              "      <th>walkDistance</th>\n",
              "      <th>weaponsAcquired</th>\n",
              "      <th>winPoints</th>\n",
              "      <th>winPlacePerc</th>\n",
              "    </tr>\n",
              "  </thead>\n",
              "  <tbody>\n",
              "    <tr>\n",
              "      <th>count</th>\n",
              "      <td>4.446966e+06</td>\n",
              "      <td>4.446966e+06</td>\n",
              "      <td>4.446966e+06</td>\n",
              "      <td>4.446966e+06</td>\n",
              "      <td>4.446966e+06</td>\n",
              "      <td>4.446966e+06</td>\n",
              "      <td>4.446966e+06</td>\n",
              "      <td>4.446966e+06</td>\n",
              "      <td>4.446966e+06</td>\n",
              "      <td>4.446966e+06</td>\n",
              "      <td>4.446966e+06</td>\n",
              "      <td>4.446966e+06</td>\n",
              "      <td>4.446966e+06</td>\n",
              "      <td>4.446966e+06</td>\n",
              "      <td>4.446966e+06</td>\n",
              "      <td>4.446966e+06</td>\n",
              "      <td>4.446966e+06</td>\n",
              "      <td>4.446966e+06</td>\n",
              "      <td>4.446966e+06</td>\n",
              "      <td>4.446966e+06</td>\n",
              "      <td>4.446966e+06</td>\n",
              "      <td>4.446966e+06</td>\n",
              "      <td>4.446966e+06</td>\n",
              "      <td>4.446966e+06</td>\n",
              "      <td>4.446965e+06</td>\n",
              "    </tr>\n",
              "    <tr>\n",
              "      <th>mean</th>\n",
              "      <td>2.338149e-01</td>\n",
              "      <td>1.106908e+00</td>\n",
              "      <td>1.307171e+02</td>\n",
              "      <td>6.578755e-01</td>\n",
              "      <td>2.268196e-01</td>\n",
              "      <td>1.370147e+00</td>\n",
              "      <td>4.759935e+01</td>\n",
              "      <td>5.050060e+02</td>\n",
              "      <td>9.247833e-01</td>\n",
              "      <td>5.439551e-01</td>\n",
              "      <td>2.299759e+01</td>\n",
              "      <td>1.579506e+03</td>\n",
              "      <td>4.450467e+01</td>\n",
              "      <td>4.300759e+01</td>\n",
              "      <td>8.920105e+02</td>\n",
              "      <td>1.646590e-01</td>\n",
              "      <td>6.061157e+02</td>\n",
              "      <td>3.496091e-03</td>\n",
              "      <td>4.509322e+00</td>\n",
              "      <td>2.386841e-02</td>\n",
              "      <td>7.918208e-03</td>\n",
              "      <td>1.154218e+03</td>\n",
              "      <td>3.660488e+00</td>\n",
              "      <td>6.064601e+02</td>\n",
              "      <td>4.728216e-01</td>\n",
              "    </tr>\n",
              "    <tr>\n",
              "      <th>std</th>\n",
              "      <td>5.885731e-01</td>\n",
              "      <td>1.715794e+00</td>\n",
              "      <td>1.707806e+02</td>\n",
              "      <td>1.145743e+00</td>\n",
              "      <td>6.021553e-01</td>\n",
              "      <td>2.679982e+00</td>\n",
              "      <td>2.746294e+01</td>\n",
              "      <td>6.275049e+02</td>\n",
              "      <td>1.558445e+00</td>\n",
              "      <td>7.109721e-01</td>\n",
              "      <td>5.097262e+01</td>\n",
              "      <td>2.587399e+02</td>\n",
              "      <td>2.382811e+01</td>\n",
              "      <td>2.328949e+01</td>\n",
              "      <td>7.366478e+02</td>\n",
              "      <td>4.721671e-01</td>\n",
              "      <td>1.498344e+03</td>\n",
              "      <td>7.337297e-02</td>\n",
              "      <td>3.050220e+01</td>\n",
              "      <td>1.673935e-01</td>\n",
              "      <td>9.261157e-02</td>\n",
              "      <td>1.183497e+03</td>\n",
              "      <td>2.456544e+00</td>\n",
              "      <td>7.397004e+02</td>\n",
              "      <td>3.074050e-01</td>\n",
              "    </tr>\n",
              "    <tr>\n",
              "      <th>min</th>\n",
              "      <td>0.000000e+00</td>\n",
              "      <td>0.000000e+00</td>\n",
              "      <td>0.000000e+00</td>\n",
              "      <td>0.000000e+00</td>\n",
              "      <td>0.000000e+00</td>\n",
              "      <td>0.000000e+00</td>\n",
              "      <td>1.000000e+00</td>\n",
              "      <td>0.000000e+00</td>\n",
              "      <td>0.000000e+00</td>\n",
              "      <td>0.000000e+00</td>\n",
              "      <td>0.000000e+00</td>\n",
              "      <td>9.000000e+00</td>\n",
              "      <td>1.000000e+00</td>\n",
              "      <td>1.000000e+00</td>\n",
              "      <td>-1.000000e+00</td>\n",
              "      <td>0.000000e+00</td>\n",
              "      <td>0.000000e+00</td>\n",
              "      <td>0.000000e+00</td>\n",
              "      <td>0.000000e+00</td>\n",
              "      <td>0.000000e+00</td>\n",
              "      <td>0.000000e+00</td>\n",
              "      <td>0.000000e+00</td>\n",
              "      <td>0.000000e+00</td>\n",
              "      <td>0.000000e+00</td>\n",
              "      <td>0.000000e+00</td>\n",
              "    </tr>\n",
              "    <tr>\n",
              "      <th>25%</th>\n",
              "      <td>0.000000e+00</td>\n",
              "      <td>0.000000e+00</td>\n",
              "      <td>0.000000e+00</td>\n",
              "      <td>0.000000e+00</td>\n",
              "      <td>0.000000e+00</td>\n",
              "      <td>0.000000e+00</td>\n",
              "      <td>2.400000e+01</td>\n",
              "      <td>0.000000e+00</td>\n",
              "      <td>0.000000e+00</td>\n",
              "      <td>0.000000e+00</td>\n",
              "      <td>0.000000e+00</td>\n",
              "      <td>1.367000e+03</td>\n",
              "      <td>2.800000e+01</td>\n",
              "      <td>2.700000e+01</td>\n",
              "      <td>-1.000000e+00</td>\n",
              "      <td>0.000000e+00</td>\n",
              "      <td>0.000000e+00</td>\n",
              "      <td>0.000000e+00</td>\n",
              "      <td>0.000000e+00</td>\n",
              "      <td>0.000000e+00</td>\n",
              "      <td>0.000000e+00</td>\n",
              "      <td>1.551000e+02</td>\n",
              "      <td>2.000000e+00</td>\n",
              "      <td>0.000000e+00</td>\n",
              "      <td>2.000000e-01</td>\n",
              "    </tr>\n",
              "    <tr>\n",
              "      <th>50%</th>\n",
              "      <td>0.000000e+00</td>\n",
              "      <td>0.000000e+00</td>\n",
              "      <td>8.424000e+01</td>\n",
              "      <td>0.000000e+00</td>\n",
              "      <td>0.000000e+00</td>\n",
              "      <td>0.000000e+00</td>\n",
              "      <td>4.700000e+01</td>\n",
              "      <td>0.000000e+00</td>\n",
              "      <td>0.000000e+00</td>\n",
              "      <td>0.000000e+00</td>\n",
              "      <td>0.000000e+00</td>\n",
              "      <td>1.438000e+03</td>\n",
              "      <td>3.000000e+01</td>\n",
              "      <td>3.000000e+01</td>\n",
              "      <td>1.443000e+03</td>\n",
              "      <td>0.000000e+00</td>\n",
              "      <td>0.000000e+00</td>\n",
              "      <td>0.000000e+00</td>\n",
              "      <td>0.000000e+00</td>\n",
              "      <td>0.000000e+00</td>\n",
              "      <td>0.000000e+00</td>\n",
              "      <td>6.856000e+02</td>\n",
              "      <td>3.000000e+00</td>\n",
              "      <td>0.000000e+00</td>\n",
              "      <td>4.583000e-01</td>\n",
              "    </tr>\n",
              "    <tr>\n",
              "      <th>75%</th>\n",
              "      <td>0.000000e+00</td>\n",
              "      <td>2.000000e+00</td>\n",
              "      <td>1.860000e+02</td>\n",
              "      <td>1.000000e+00</td>\n",
              "      <td>0.000000e+00</td>\n",
              "      <td>2.000000e+00</td>\n",
              "      <td>7.100000e+01</td>\n",
              "      <td>1.172000e+03</td>\n",
              "      <td>1.000000e+00</td>\n",
              "      <td>1.000000e+00</td>\n",
              "      <td>2.132000e+01</td>\n",
              "      <td>1.851000e+03</td>\n",
              "      <td>4.900000e+01</td>\n",
              "      <td>4.700000e+01</td>\n",
              "      <td>1.500000e+03</td>\n",
              "      <td>0.000000e+00</td>\n",
              "      <td>1.909750e-01</td>\n",
              "      <td>0.000000e+00</td>\n",
              "      <td>0.000000e+00</td>\n",
              "      <td>0.000000e+00</td>\n",
              "      <td>0.000000e+00</td>\n",
              "      <td>1.976000e+03</td>\n",
              "      <td>5.000000e+00</td>\n",
              "      <td>1.495000e+03</td>\n",
              "      <td>7.407000e-01</td>\n",
              "    </tr>\n",
              "    <tr>\n",
              "      <th>max</th>\n",
              "      <td>2.200000e+01</td>\n",
              "      <td>3.300000e+01</td>\n",
              "      <td>6.616000e+03</td>\n",
              "      <td>5.300000e+01</td>\n",
              "      <td>6.400000e+01</td>\n",
              "      <td>8.000000e+01</td>\n",
              "      <td>1.010000e+02</td>\n",
              "      <td>2.170000e+03</td>\n",
              "      <td>7.200000e+01</td>\n",
              "      <td>2.000000e+01</td>\n",
              "      <td>1.094000e+03</td>\n",
              "      <td>2.237000e+03</td>\n",
              "      <td>1.000000e+02</td>\n",
              "      <td>1.000000e+02</td>\n",
              "      <td>5.910000e+03</td>\n",
              "      <td>3.900000e+01</td>\n",
              "      <td>4.071000e+04</td>\n",
              "      <td>1.800000e+01</td>\n",
              "      <td>3.823000e+03</td>\n",
              "      <td>1.200000e+01</td>\n",
              "      <td>5.000000e+00</td>\n",
              "      <td>2.578000e+04</td>\n",
              "      <td>2.360000e+02</td>\n",
              "      <td>2.013000e+03</td>\n",
              "      <td>1.000000e+00</td>\n",
              "    </tr>\n",
              "  </tbody>\n",
              "</table>\n",
              "</div>\n",
              "      <button class=\"colab-df-convert\" onclick=\"convertToInteractive('df-cb124b0b-cbcc-483c-a03c-7ab329ba7792')\"\n",
              "              title=\"Convert this dataframe to an interactive table.\"\n",
              "              style=\"display:none;\">\n",
              "        \n",
              "  <svg xmlns=\"http://www.w3.org/2000/svg\" height=\"24px\"viewBox=\"0 0 24 24\"\n",
              "       width=\"24px\">\n",
              "    <path d=\"M0 0h24v24H0V0z\" fill=\"none\"/>\n",
              "    <path d=\"M18.56 5.44l.94 2.06.94-2.06 2.06-.94-2.06-.94-.94-2.06-.94 2.06-2.06.94zm-11 1L8.5 8.5l.94-2.06 2.06-.94-2.06-.94L8.5 2.5l-.94 2.06-2.06.94zm10 10l.94 2.06.94-2.06 2.06-.94-2.06-.94-.94-2.06-.94 2.06-2.06.94z\"/><path d=\"M17.41 7.96l-1.37-1.37c-.4-.4-.92-.59-1.43-.59-.52 0-1.04.2-1.43.59L10.3 9.45l-7.72 7.72c-.78.78-.78 2.05 0 2.83L4 21.41c.39.39.9.59 1.41.59.51 0 1.02-.2 1.41-.59l7.78-7.78 2.81-2.81c.8-.78.8-2.07 0-2.86zM5.41 20L4 18.59l7.72-7.72 1.47 1.35L5.41 20z\"/>\n",
              "  </svg>\n",
              "      </button>\n",
              "      \n",
              "  <style>\n",
              "    .colab-df-container {\n",
              "      display:flex;\n",
              "      flex-wrap:wrap;\n",
              "      gap: 12px;\n",
              "    }\n",
              "\n",
              "    .colab-df-convert {\n",
              "      background-color: #E8F0FE;\n",
              "      border: none;\n",
              "      border-radius: 50%;\n",
              "      cursor: pointer;\n",
              "      display: none;\n",
              "      fill: #1967D2;\n",
              "      height: 32px;\n",
              "      padding: 0 0 0 0;\n",
              "      width: 32px;\n",
              "    }\n",
              "\n",
              "    .colab-df-convert:hover {\n",
              "      background-color: #E2EBFA;\n",
              "      box-shadow: 0px 1px 2px rgba(60, 64, 67, 0.3), 0px 1px 3px 1px rgba(60, 64, 67, 0.15);\n",
              "      fill: #174EA6;\n",
              "    }\n",
              "\n",
              "    [theme=dark] .colab-df-convert {\n",
              "      background-color: #3B4455;\n",
              "      fill: #D2E3FC;\n",
              "    }\n",
              "\n",
              "    [theme=dark] .colab-df-convert:hover {\n",
              "      background-color: #434B5C;\n",
              "      box-shadow: 0px 1px 3px 1px rgba(0, 0, 0, 0.15);\n",
              "      filter: drop-shadow(0px 1px 2px rgba(0, 0, 0, 0.3));\n",
              "      fill: #FFFFFF;\n",
              "    }\n",
              "  </style>\n",
              "\n",
              "      <script>\n",
              "        const buttonEl =\n",
              "          document.querySelector('#df-cb124b0b-cbcc-483c-a03c-7ab329ba7792 button.colab-df-convert');\n",
              "        buttonEl.style.display =\n",
              "          google.colab.kernel.accessAllowed ? 'block' : 'none';\n",
              "\n",
              "        async function convertToInteractive(key) {\n",
              "          const element = document.querySelector('#df-cb124b0b-cbcc-483c-a03c-7ab329ba7792');\n",
              "          const dataTable =\n",
              "            await google.colab.kernel.invokeFunction('convertToInteractive',\n",
              "                                                     [key], {});\n",
              "          if (!dataTable) return;\n",
              "\n",
              "          const docLinkHtml = 'Like what you see? Visit the ' +\n",
              "            '<a target=\"_blank\" href=https://colab.research.google.com/notebooks/data_table.ipynb>data table notebook</a>'\n",
              "            + ' to learn more about interactive tables.';\n",
              "          element.innerHTML = '';\n",
              "          dataTable['output_type'] = 'display_data';\n",
              "          await google.colab.output.renderOutput(dataTable, element);\n",
              "          const docLink = document.createElement('div');\n",
              "          docLink.innerHTML = docLinkHtml;\n",
              "          element.appendChild(docLink);\n",
              "        }\n",
              "      </script>\n",
              "    </div>\n",
              "  </div>\n",
              "  "
            ]
          },
          "metadata": {},
          "execution_count": 64
        }
      ]
    },
    {
      "cell_type": "markdown",
      "source": [
        "#### **Data Cleaning**"
      ],
      "metadata": {
        "id": "Yw8jgtC5PdAN"
      }
    },
    {
      "cell_type": "markdown",
      "source": [
        "##### **Null and Duplicated Data**"
      ],
      "metadata": {
        "id": "-m_wSSkUUcw4"
      }
    },
    {
      "cell_type": "code",
      "source": [
        "train = train.drop_duplicates()"
      ],
      "metadata": {
        "id": "7NGTEbjMb4fM"
      },
      "execution_count": null,
      "outputs": []
    },
    {
      "cell_type": "code",
      "source": [
        "train.isnull().sum()"
      ],
      "metadata": {
        "id": "xNqjUhhONkTQ"
      },
      "execution_count": null,
      "outputs": []
    },
    {
      "cell_type": "code",
      "source": [
        "train.dropna(subset='winPlacePerc',inplace=True)\n",
        "train.isnull().sum()"
      ],
      "metadata": {
        "id": "DFFumUO-Opxw"
      },
      "execution_count": null,
      "outputs": []
    },
    {
      "cell_type": "markdown",
      "source": [
        "I wanted to drop the only 1 Null value from my target Column. fortunately, all the Null values were in the same row so when I droped it from my DataFrame I dropped all the other Null values too."
      ],
      "metadata": {
        "id": "V7pXWEPQPjd-"
      }
    },
    {
      "cell_type": "markdown",
      "source": [
        "\n",
        "\n",
        "---\n",
        "\n"
      ],
      "metadata": {
        "id": "cSAroMlmiB3h"
      }
    },
    {
      "cell_type": "markdown",
      "source": [
        "#### **Feature Engineering**"
      ],
      "metadata": {
        "id": "JUz9Iurxe9jC"
      }
    },
    {
      "cell_type": "markdown",
      "source": [
        "##### **Total Distance & AFK**"
      ],
      "metadata": {
        "id": "bCsGTrAr4vkJ"
      }
    },
    {
      "cell_type": "code",
      "source": [
        "train['totalDistance'] = train['rideDistance'] + train['swimDistance'] + train['walkDistance']\n",
        "train['totalDistance']"
      ],
      "metadata": {
        "id": "ZrlmMRQRdxyi"
      },
      "execution_count": null,
      "outputs": []
    },
    {
      "cell_type": "markdown",
      "source": [
        "I have made a new feature that calculates the Total distance each player has moved.\n",
        "\n",
        "---"
      ],
      "metadata": {
        "id": "Lf-T6sTHrmaP"
      }
    },
    {
      "cell_type": "markdown",
      "source": [
        "Now, I want to calculate the number of players that stayed **AFK** in the whole match by Summing all the total distances and getting 0 as a resault, which means that the player moved 0 distance and That's known as **AFK** (Away-From-Keyboard)."
      ],
      "metadata": {
        "id": "8n-GN-GIPJDD"
      }
    },
    {
      "cell_type": "code",
      "source": [
        "print('Number of players that stayed AFK in the matches:',(train['totalDistance'] == 0).sum())\n",
        "print('Number of the records that I have in the train dataset:',train.shape[0])"
      ],
      "metadata": {
        "id": "q8VSKqaUpEQX"
      },
      "execution_count": null,
      "outputs": []
    },
    {
      "cell_type": "markdown",
      "source": [
        "There are **12710** who stayed **AFK** in the match which are outliers, I'll need to deal with them."
      ],
      "metadata": {
        "id": "wr0ixOHFqeCY"
      }
    },
    {
      "cell_type": "code",
      "source": [
        "train.drop(train[train['totalDistance'] == 0].index, inplace=True)\n",
        "print('Number of AFK players in the DataSet Now:',(train['totalDistance'] == 0).sum())\n",
        "print('Number of the records that I have in the train dataset Now:',train.shape[0])"
      ],
      "metadata": {
        "id": "Pg_VOSV5tL9N"
      },
      "execution_count": null,
      "outputs": []
    },
    {
      "cell_type": "markdown",
      "source": [
        "---"
      ],
      "metadata": {
        "id": "GWbvjW7ELCOL"
      }
    },
    {
      "cell_type": "markdown",
      "source": [
        "##### **Total of picked up items** (Boosts, Heals and Weapons Stuffs)"
      ],
      "metadata": {
        "id": "zUvRql9MBw9x"
      }
    },
    {
      "cell_type": "code",
      "source": [
        "train['totalItemsPicked'] = train['boosts'] + train['heals'] + train['weaponsAcquired']\n",
        "train['totalItemsPicked'].describe()"
      ],
      "metadata": {
        "id": "JveNUfLlCcCG"
      },
      "execution_count": null,
      "outputs": []
    },
    {
      "cell_type": "markdown",
      "source": [
        "Merged all the items that may be picked up into one feature\n",
        "\n",
        "---"
      ],
      "metadata": {
        "id": "c4Ih0SQjLIKZ"
      }
    },
    {
      "cell_type": "markdown",
      "source": [
        "##### **Damage Dealt by a Team**"
      ],
      "metadata": {
        "id": "usEA9zZfiA_C"
      }
    },
    {
      "cell_type": "code",
      "source": [
        "train['totalDamageByTeam'] = train.groupby('groupId').damageDealt.transform('sum')"
      ],
      "metadata": {
        "id": "Lhbw0z1ciLM3"
      },
      "execution_count": null,
      "outputs": []
    },
    {
      "cell_type": "markdown",
      "source": [
        "Merged all the damage dealt by a team into 1 value\n",
        "\n",
        "---"
      ],
      "metadata": {
        "id": "fsPUiuqpiPfc"
      }
    },
    {
      "cell_type": "markdown",
      "source": [
        "##### **Total Kills by a Team**"
      ],
      "metadata": {
        "id": "9gOBAbd7ic-v"
      }
    },
    {
      "cell_type": "code",
      "source": [
        "train['totalKillsByTeam'] =  train.groupby('groupId').kills.transform('sum')"
      ],
      "metadata": {
        "id": "SrvPeB-_iohN"
      },
      "execution_count": null,
      "outputs": []
    },
    {
      "cell_type": "markdown",
      "source": [
        "Merged the Total kills scored by a Team.\n",
        "\n",
        "---"
      ],
      "metadata": {
        "id": "85A5adoxixaK"
      }
    },
    {
      "cell_type": "markdown",
      "source": [
        "##### **Total Heals and Boosts**"
      ],
      "metadata": {
        "id": "TCxWlDYZpZiB"
      }
    },
    {
      "cell_type": "code",
      "source": [
        "train['healsAndBoosts'] = train['heals'] + train['boosts']"
      ],
      "metadata": {
        "id": "4kxmNT9_pgfG"
      },
      "execution_count": null,
      "outputs": []
    },
    {
      "cell_type": "markdown",
      "source": [
        "Merged the heals and boosts into 1 feature\n",
        "\n",
        "---"
      ],
      "metadata": {
        "id": "ACqhyRpiplxb"
      }
    },
    {
      "cell_type": "markdown",
      "source": [
        "##### **Total Buffs used in a Team**"
      ],
      "metadata": {
        "id": "AbnJX8mXi-cc"
      }
    },
    {
      "cell_type": "code",
      "source": [
        "train['totalTeamBuffs'] = train.groupby('groupId').healsAndBoosts.transform('sum')"
      ],
      "metadata": {
        "id": "RoP2vrb0i5iW"
      },
      "execution_count": null,
      "outputs": []
    },
    {
      "cell_type": "markdown",
      "source": [
        "Merged the Total buffs used in a single team.\n",
        "\n",
        "---"
      ],
      "metadata": {
        "id": "0mF5S4SsjN7H"
      }
    },
    {
      "cell_type": "markdown",
      "source": [
        "##### **Teamwork**"
      ],
      "metadata": {
        "id": "YcVcI0BiKqB9"
      }
    },
    {
      "cell_type": "code",
      "source": [
        "train['teamwork'] = train['assists'] + train['revives']"
      ],
      "metadata": {
        "id": "DpUE6mngKowj"
      },
      "execution_count": null,
      "outputs": []
    },
    {
      "cell_type": "markdown",
      "source": [
        "Merged the assists and revives into one feature.\n",
        "\n",
        "\n",
        "---"
      ],
      "metadata": {
        "id": "uLWMrD9dLepW"
      }
    },
    {
      "cell_type": "markdown",
      "source": [
        "##### **Self Healing & Boosting**"
      ],
      "metadata": {
        "id": "D7WxQMKaS477"
      }
    },
    {
      "cell_type": "code",
      "source": [
        "train['healsAndBoosts'] = train['heals'] + train['boosts']"
      ],
      "metadata": {
        "id": "9cBAu-SoTAnW"
      },
      "execution_count": null,
      "outputs": []
    },
    {
      "cell_type": "markdown",
      "source": [
        "Merged the number of heals and number of boosts into one feature."
      ],
      "metadata": {
        "id": "s3JrJN48U_Zg"
      }
    },
    {
      "cell_type": "markdown",
      "source": [
        "---"
      ],
      "metadata": {
        "id": "B_c0fmYHVMxx"
      }
    },
    {
      "cell_type": "markdown",
      "source": [
        "Now these feature are not useful because we used them in another features that we merged earlier. If I didn't drop them, they will double effect on my model negativly. So, I'll drop them."
      ],
      "metadata": {
        "id": "LTmXOCmbrai7"
      }
    },
    {
      "cell_type": "code",
      "source": [
        "train = train.drop(axis=1,labels=['Id','matchId','groupId','rideDistance','swimDistance','walkDistance','rankPoints',\n",
        "                                  'killPoints','winPoints','weaponsAcquired','boosts','heals', 'revives','assists'])"
      ],
      "metadata": {
        "id": "uEofwziY7ggn"
      },
      "execution_count": null,
      "outputs": []
    },
    {
      "cell_type": "markdown",
      "source": [
        "#### **Data Visualization & Adjustment**"
      ],
      "metadata": {
        "id": "7aXgsiq-YtHt"
      }
    },
    {
      "cell_type": "markdown",
      "source": [
        "##### **Cheaters Detecting**"
      ],
      "metadata": {
        "id": "YrSUC4tSHXmf"
      }
    },
    {
      "cell_type": "markdown",
      "source": [
        "###### **kills with 0 Distance Moved**"
      ],
      "metadata": {
        "id": "tNMMbSGHSvc0"
      }
    },
    {
      "cell_type": "code",
      "source": [
        "print(((train['kills'] > 0) & (train['totalDistance'] == 0)==True).sum())"
      ],
      "metadata": {
        "id": "M0vaDwZGH_Um"
      },
      "execution_count": null,
      "outputs": []
    },
    {
      "cell_type": "markdown",
      "source": [
        "I calculated the number of players who got kills while they moved 0 Total distance in the whole match, because they may be cheaters which is an Outlier. Luckly, there are 0 of those players in this dataset.\n",
        "\n"
      ],
      "metadata": {
        "id": "7ZQYlUUSJNcO"
      }
    },
    {
      "cell_type": "markdown",
      "source": [
        "---"
      ],
      "metadata": {
        "id": "fL4wTiXxTjG5"
      }
    },
    {
      "cell_type": "markdown",
      "source": [
        "###### **Kills > 30**"
      ],
      "metadata": {
        "id": "RlVfsKM-Tlvd"
      }
    },
    {
      "cell_type": "markdown",
      "source": [
        "I will detect players who got more than 30 kills in a single match and who got more than 10 roadkills, they will be either cheaters or outliers."
      ],
      "metadata": {
        "id": "A0t8br1kThv4"
      }
    },
    {
      "cell_type": "code",
      "source": [
        "train['cheater'] = ((train['kills'] > 30) | (train['roadKills'] > 10)).astype(int)\n",
        "train['cheater'].value_counts()"
      ],
      "metadata": {
        "id": "WfsVGui5fDd3"
      },
      "execution_count": null,
      "outputs": []
    },
    {
      "cell_type": "code",
      "source": [
        "train.drop(train[train['cheater']==1].index, inplace=True)\n",
        "train['cheater'].value_counts()"
      ],
      "metadata": {
        "id": "tV8ytQAhfaXC"
      },
      "execution_count": null,
      "outputs": []
    },
    {
      "cell_type": "markdown",
      "source": [
        "I got 9 records may be cheaters, or just an outliers. in both ways I'll need to drop them."
      ],
      "metadata": {
        "id": "R1oLXuVOhMCY"
      }
    },
    {
      "cell_type": "markdown",
      "source": [
        "---"
      ],
      "metadata": {
        "id": "c9AJLDOILbvh"
      }
    },
    {
      "cell_type": "markdown",
      "source": [
        "###### **Very Long Distance Kill**"
      ],
      "metadata": {
        "id": "lMdmkBm9W5rW"
      }
    },
    {
      "cell_type": "code",
      "source": [
        "dist = train[train['longestKill']>=1000]\n",
        "plt.figure(figsize=(10, 6))\n",
        "plt.scatter(dist['longestKill'], dist['kills'])\n",
        "plt.xlabel('Longest Kill')\n",
        "plt.ylabel('Kills')\n",
        "plt.title('Scatter plot of Longest Kill and Kills')\n",
        "plt.show()"
      ],
      "metadata": {
        "id": "qdsY1NMuXHaQ"
      },
      "execution_count": null,
      "outputs": []
    },
    {
      "cell_type": "markdown",
      "source": [
        "I got many players that got so many kills from a range that's more than 1000 Meters, it's a bit unrealistic and might be cheating! but from another side with a 8x scope, a static target, very good position and a lot of luck it is possible. \n",
        "\n",
        "So it is either a cheater or an outlier, bothways I'll be dropping them from my DataFrame.\n",
        "![Imgur](https://zilliongamer.com/uploads/pubg-m/guide/sniper/map-range.jpg)"
      ],
      "metadata": {
        "id": "U9-88wulhPt4"
      }
    },
    {
      "cell_type": "code",
      "source": [
        "train.drop(train[train['longestKill'] > 1000].index, inplace=True)\n",
        "train[train['longestKill'] > 1000].sum().sum()"
      ],
      "metadata": {
        "id": "r9cmb52XcPbd"
      },
      "execution_count": null,
      "outputs": []
    },
    {
      "cell_type": "code",
      "source": [
        "train = train.drop(axis=1,labels=['cheater'])"
      ],
      "metadata": {
        "id": "BqJoh3ofwFEU"
      },
      "execution_count": null,
      "outputs": []
    },
    {
      "cell_type": "markdown",
      "source": [
        "---"
      ],
      "metadata": {
        "id": "8_dQoArAc_9A"
      }
    },
    {
      "cell_type": "code",
      "source": [
        "train.columns"
      ],
      "metadata": {
        "id": "fP4q6yNMwwEC"
      },
      "execution_count": null,
      "outputs": []
    },
    {
      "cell_type": "code",
      "source": [
        "new_order = ['damageDealt', 'DBNOs', 'headshotKills', 'killStreaks',\n",
        "       'longestKill', 'matchType',\n",
        "       'numGroups', 'totalDistance',\n",
        "       'totalItemsPicked', 'totalDamageByTeam', 'totalKillsByTeam',\n",
        "       'healsAndBoosts', 'totalTeamBuffs', 'teamwork', 'winPlacePerc']\n",
        "train = train.reindex(columns=new_order)"
      ],
      "metadata": {
        "id": "XFT11RNouowz"
      },
      "execution_count": null,
      "outputs": []
    },
    {
      "cell_type": "code",
      "source": [
        "plt.figure(figsize=(20, 12))\n",
        "heatmap = sns.heatmap(train.corr(), vmin=-1, vmax=1, annot=True, cmap=\"Blues\")\n",
        "heatmap.set_title('Correlation Heatmap', fontdict={'fontsize':12}, pad=12);"
      ],
      "metadata": {
        "id": "2OW1Iqds0_6U"
      },
      "execution_count": null,
      "outputs": []
    },
    {
      "cell_type": "markdown",
      "source": [
        "We can notice that:\n",
        "\n",
        "1. `totalKillsByTeam` and `totalDamageByTeam` \n",
        "2. `healsAndBoosts` and `totalTeamBuffs`\n",
        "3. `totalItemsPicked` and `healsAndBoosts`\n",
        "\n",
        "**All of them are strongly positive correlated.**"
      ],
      "metadata": {
        "id": "9EASFuxYraYM"
      }
    },
    {
      "cell_type": "markdown",
      "source": [
        "---"
      ],
      "metadata": {
        "id": "DOTrhpP-L8tq"
      }
    },
    {
      "cell_type": "markdown",
      "source": [
        "##### **Transforming (numGroups) Feature**"
      ],
      "metadata": {
        "id": "cw8CM_FoTlXH"
      }
    },
    {
      "cell_type": "code",
      "source": [
        "plt.figure(figsize=(15,8))\n",
        "fig = sns.histplot(data=train, x=\"numGroups\")\n",
        "fig.set_title(\"Number of Groups\")\n",
        "plt.xlabel(\"Number of Groups\")\n",
        "plt.xticks(range(0, 100, 2))\n",
        "plt.show()"
      ],
      "metadata": {
        "id": "rM7ZGq9YmKCy"
      },
      "execution_count": null,
      "outputs": []
    },
    {
      "cell_type": "code",
      "source": [
        "bins = [-1, 35, 66, 100]\n",
        "labels = ['0-35', '36-66', '67-100']\n",
        "train['numGroups_bins'] = pd.cut(train['numGroups'], bins=bins, labels=labels)\n",
        "print(train['numGroups_bins'].value_counts())"
      ],
      "metadata": {
        "id": "r05U-b_YsWE0"
      },
      "execution_count": null,
      "outputs": []
    },
    {
      "cell_type": "markdown",
      "source": [
        "As it's shown in the previous plot, The `numGroups` has 3 main Peeks: `0-35`, `36-66` and `67-100`. So I decided to slice this attribute into 3 main groups because I believe it will affect the Model Positivly (*when there are less Groups in the match, it will be a higher chance to win!*)\n",
        "\n",
        "As a resault, I have 2 Categorical Values now."
      ],
      "metadata": {
        "id": "0yNYpqf0vCs_"
      }
    },
    {
      "cell_type": "markdown",
      "source": [
        "---"
      ],
      "metadata": {
        "id": "U229A4UFXeoB"
      }
    },
    {
      "cell_type": "markdown",
      "source": [
        "##### **MatchType feature Reduction and Modifying**"
      ],
      "metadata": {
        "id": "8xKKh-IXXmF7"
      }
    },
    {
      "cell_type": "code",
      "source": [
        "plt.figure(figsize=(12,6))\n",
        "train['matchType'].value_counts().plot(kind='bar')"
      ],
      "metadata": {
        "id": "PAq5g-EcK9yg"
      },
      "execution_count": null,
      "outputs": []
    },
    {
      "cell_type": "code",
      "source": [
        "indices = train[train['matchType'] == 'crashfpp'].index\n",
        "train = train.drop(index=indices)\n",
        "\n",
        "\n",
        "indices = train[train['matchType'] == 'crashtpp'].index\n",
        "train = train.drop(index=indices)\n",
        "\n",
        "\n",
        "indices = train[train['matchType'] == 'flaretpp'].index\n",
        "train = train.drop(index=indices)\n",
        "\n",
        "\n",
        "indices = train[train['matchType'] == 'flarefpp'].index\n",
        "train = train.drop(index=indices)"
      ],
      "metadata": {
        "id": "0-QETLH3K9nx"
      },
      "execution_count": null,
      "outputs": []
    },
    {
      "cell_type": "markdown",
      "source": [
        "I dropped all the `crash` & `flare` values because their volume is not high and they will not make the Model better."
      ],
      "metadata": {
        "id": "F7snKJl4ZOk-"
      }
    },
    {
      "cell_type": "code",
      "source": [
        "squad_mapping = {'squad-fpp': 'squad', 'normal-squad-fpp': 'squad', 'normal-squad': 'squad'}\n",
        "train['matchType'] = train['matchType'].replace(squad_mapping)\n",
        "\n",
        "\n",
        "solo_mapping = {'solo-fpp': 'solo', 'normal-solo-fpp': 'solo', 'normal-solo': 'solo'}\n",
        "train['matchType'] = train['matchType'].replace(solo_mapping)\n",
        "\n",
        "\n",
        "duo_mapping = {'duo-fpp': 'duo', 'normal-duo-fpp': 'duo', 'normal-duo': 'duo'}\n",
        "train['matchType'] = train['matchType'].replace(duo_mapping)\n",
        "\n",
        "\n",
        "plt.figure(figsize=(8,4))\n",
        "train['matchType'].value_counts().plot(kind='bar')"
      ],
      "metadata": {
        "id": "Mf9sxGAoK9a6"
      },
      "execution_count": null,
      "outputs": []
    },
    {
      "cell_type": "code",
      "source": [
        "train.drop('numGroups', axis=1, inplace=True)"
      ],
      "metadata": {
        "id": "eaXU3dD6slTl"
      },
      "execution_count": null,
      "outputs": []
    },
    {
      "cell_type": "markdown",
      "source": [
        "I merged all the types to those 3 main types, it will allow me to deal with my model easier and give me a much clearer view to the data."
      ],
      "metadata": {
        "id": "DOCG6BM2aNbV"
      }
    },
    {
      "cell_type": "markdown",
      "source": [
        "\n",
        "\n",
        "---\n",
        "\n"
      ],
      "metadata": {
        "id": "OxVdKlIa0CZF"
      }
    },
    {
      "cell_type": "markdown",
      "source": [
        "##### **Dealing with outliers**"
      ],
      "metadata": {
        "id": "8JYSBqaDdz5G"
      }
    },
    {
      "cell_type": "code",
      "source": [
        "train.columns.shape"
      ],
      "metadata": {
        "id": "Q1nfAyz953Hs"
      },
      "execution_count": null,
      "outputs": []
    },
    {
      "cell_type": "code",
      "source": [
        "fig = plt.figure(figsize=(20, 30))\n",
        "\n",
        "i = 1\n",
        "for col in train[['damageDealt', 'DBNOs', 'headshotKills',\n",
        "       'killStreaks', 'longestKill',\n",
        "       'totalDistance', 'totalItemsPicked',\n",
        "       'totalDamageByTeam', 'totalKillsByTeam', 'healsAndBoosts',\n",
        "       'totalTeamBuffs', 'teamwork', 'winPlacePerc']]:\n",
        "  if i < 14:\n",
        "    fig.add_subplot(7,3,i)\n",
        "    i += 1\n",
        "    train[col].plot(kind='box')\n",
        "  else:\n",
        "    break"
      ],
      "metadata": {
        "id": "AJYshI0c1eY2"
      },
      "execution_count": null,
      "outputs": []
    },
    {
      "cell_type": "code",
      "source": [
        "median_killstreaks = train['killStreaks'].median()\n",
        "train.loc[train['killStreaks'] > 12, 'killStreaks'] = median_killstreaks\n",
        "\n",
        "sns.boxplot(y=train['killStreaks'])"
      ],
      "metadata": {
        "id": "Hmn-liVv7CU5"
      },
      "execution_count": null,
      "outputs": []
    },
    {
      "cell_type": "code",
      "source": [
        "median_DBNOs = train['DBNOs'].median()\n",
        "train.loc[train['DBNOs'] > 29, 'DBNOs'] = median_DBNOs\n",
        "\n",
        "sns.boxplot(y=train['DBNOs'])"
      ],
      "metadata": {
        "id": "Kzw5AzrG8x8v"
      },
      "execution_count": null,
      "outputs": []
    },
    {
      "cell_type": "code",
      "source": [
        "median_totalDistance = train['totalDistance'].median()\n",
        "train.loc[train['totalDistance'] > 25000, 'totalDistance'] = median_totalDistance\n",
        "\n",
        "sns.boxplot(y=train['totalDistance'])"
      ],
      "metadata": {
        "id": "UedJaLmE_3ne"
      },
      "execution_count": null,
      "outputs": []
    },
    {
      "cell_type": "markdown",
      "source": [
        "- - -"
      ],
      "metadata": {
        "id": "YTHmeG20nsef"
      }
    },
    {
      "cell_type": "code",
      "source": [
        "median_totalItemsPicked = train['totalItemsPicked'].median()\n",
        "train.loc[train['totalItemsPicked'] > 100, 'totalItemsPicked'] = median_totalItemsPicked\n",
        "\n",
        "sns.boxplot(y=train['totalItemsPicked'])"
      ],
      "metadata": {
        "id": "1bSxEiF41AXk"
      },
      "execution_count": null,
      "outputs": []
    },
    {
      "cell_type": "code",
      "source": [
        "median_totalDamageByTeam = train['totalDamageByTeam'].median()\n",
        "train.loc[train['totalDamageByTeam'] > 3900, 'totalDamageByTeam'] = median_totalDamageByTeam\n",
        "\n",
        "sns.boxplot(y=train['totalDamageByTeam'])"
      ],
      "metadata": {
        "id": "71WQ5LXq1AgS"
      },
      "execution_count": null,
      "outputs": []
    },
    {
      "cell_type": "code",
      "source": [
        "median_totalKillsByTeam = train['totalKillsByTeam'].median()\n",
        "train.loc[train['totalKillsByTeam'] > 33, 'totalKillsByTeam'] = median_totalKillsByTeam\n",
        "\n",
        "sns.boxplot(y=train['totalKillsByTeam'])"
      ],
      "metadata": {
        "id": "2o_Gh6y01BZf"
      },
      "execution_count": null,
      "outputs": []
    },
    {
      "cell_type": "markdown",
      "source": [
        "Dealt with the Most obvious outliers."
      ],
      "metadata": {
        "id": "aLw-h8yAKB9_"
      }
    },
    {
      "cell_type": "markdown",
      "source": [
        "---"
      ],
      "metadata": {
        "id": "NWl3OpAILBew"
      }
    },
    {
      "cell_type": "markdown",
      "source": [
        "##### **Distribution of Kills to Win Place**"
      ],
      "metadata": {
        "id": "oPSHZ9K7PyNV"
      }
    },
    {
      "cell_type": "code",
      "source": [
        "kills =train.copy()\n",
        "\n",
        "kills['killsCategories'] = pd.cut(kills['totalKillsByTeam'], [-1, 0, 2, 5, 10, 60], labels=['0_kills','1-2_kills', '3-5_kills', '6-10_kills', '10+_kills'])\n",
        "\n",
        "kills.columns\n",
        "\n",
        "plt.figure(figsize=(12,8))\n",
        "plt.title(\"Distribution of Kill Categories vs Win Percentage\")\n",
        "sns.boxplot(x=\"killsCategories\", y=\"winPlacePerc\", data=kills)\n",
        "plt.show()\n"
      ],
      "metadata": {
        "id": "UeSVEG2gQ4fH"
      },
      "execution_count": null,
      "outputs": []
    },
    {
      "cell_type": "markdown",
      "source": [
        "---"
      ],
      "metadata": {
        "id": "cXb2vklMAXFp"
      }
    },
    {
      "cell_type": "code",
      "source": [
        "plt.figure(figsize=(12, 6))\n",
        "heatmap = sns.heatmap(train.corr().abs(), vmin=-1, vmax=1, annot=True, cmap='Blues')\n",
        "heatmap.set_title('Correlation Heatmap', fontdict={'fontsize':12}, pad=12);"
      ],
      "metadata": {
        "id": "5C3MtSwdLAk1"
      },
      "execution_count": null,
      "outputs": []
    },
    {
      "cell_type": "markdown",
      "source": [
        "This is the Coorelation Heatmap for now."
      ],
      "metadata": {
        "id": "4EjBlT3LLqYH"
      }
    },
    {
      "cell_type": "code",
      "source": [
        "train.drop(['damageDealt','totalKillsByTeam','healsAndBoosts'], axis=1, inplace=True)"
      ],
      "metadata": {
        "id": "vDqmBo0YPMtZ"
      },
      "execution_count": null,
      "outputs": []
    },
    {
      "cell_type": "markdown",
      "source": [
        "Dropped these features because they are considered as Multicollinearity and can cause several issues for the model's Accuracy."
      ],
      "metadata": {
        "id": "L002j11bP-qM"
      }
    },
    {
      "cell_type": "markdown",
      "source": [
        "---"
      ],
      "metadata": {
        "id": "TkF-yZqyMnMu"
      }
    },
    {
      "cell_type": "markdown",
      "source": [
        "#### **Encoding**"
      ],
      "metadata": {
        "id": "_Aq1ZP_HQNOm"
      }
    },
    {
      "cell_type": "code",
      "source": [
        "train.info()"
      ],
      "metadata": {
        "id": "x5ZVsOSRMn3E"
      },
      "execution_count": null,
      "outputs": []
    },
    {
      "cell_type": "code",
      "source": [
        "sns.catplot(data=train, x='numGroups_bins', y='winPlacePerc', kind='box');"
      ],
      "metadata": {
        "id": "9Itvh6fuAYc8"
      },
      "execution_count": null,
      "outputs": []
    },
    {
      "cell_type": "code",
      "source": [
        "sns.catplot(data=train, x='matchType', y='winPlacePerc', kind='box');"
      ],
      "metadata": {
        "id": "nAHLsMj3IKlz"
      },
      "execution_count": null,
      "outputs": []
    },
    {
      "cell_type": "markdown",
      "source": [
        "There is no such an order or ranking, so once I'll encode these 2 features using `OneHotEncoding`."
      ],
      "metadata": {
        "id": "zbFjzOKjA03B"
      }
    },
    {
      "cell_type": "markdown",
      "source": [
        "---"
      ],
      "metadata": {
        "id": "Bga2_ILevPuh"
      }
    },
    {
      "cell_type": "markdown",
      "source": [
        "##### **Getting Dummies**"
      ],
      "metadata": {
        "id": "M3mUMRgbNK9v"
      }
    },
    {
      "cell_type": "code",
      "source": [
        "train = pd.get_dummies(train, columns=['matchType','numGroups_bins'], drop_first=True)"
      ],
      "metadata": {
        "id": "JHDrjuY-Touk"
      },
      "execution_count": null,
      "outputs": []
    },
    {
      "cell_type": "markdown",
      "source": [
        "---"
      ],
      "metadata": {
        "id": "1z6Ui890cLGp"
      }
    },
    {
      "cell_type": "code",
      "source": [
        "train.shape"
      ],
      "metadata": {
        "id": "1Mr4TVuCcMbG"
      },
      "execution_count": null,
      "outputs": []
    },
    {
      "cell_type": "code",
      "source": [
        "train.head()"
      ],
      "metadata": {
        "id": "cEu3YrDCgMTD"
      },
      "execution_count": null,
      "outputs": []
    },
    {
      "cell_type": "markdown",
      "source": [
        "---"
      ],
      "metadata": {
        "id": "RhKyrsCwi_kA"
      }
    },
    {
      "cell_type": "markdown",
      "source": [
        "####**Normalization**"
      ],
      "metadata": {
        "id": "XC-7tEtvfGuC"
      }
    },
    {
      "cell_type": "code",
      "source": [
        "from sklearn.preprocessing import StandardScaler\n",
        "\n",
        "scaler = StandardScaler()\n",
        "\n",
        "y = train['winPlacePerc']\n",
        "Train = train.drop('winPlacePerc', axis=1)\n",
        "\n",
        "X_std = scaler.fit_transform(Train)\n",
        "\n",
        "X_std = pd.DataFrame(X_std, columns=Train.columns)\n",
        "X = X_std\n",
        "X"
      ],
      "metadata": {
        "id": "n600IKGQfWAx"
      },
      "execution_count": null,
      "outputs": []
    },
    {
      "cell_type": "markdown",
      "source": [
        "---"
      ],
      "metadata": {
        "id": "-BzgAjYvjC9p"
      }
    },
    {
      "cell_type": "markdown",
      "source": [
        "# **Modeling**"
      ],
      "metadata": {
        "id": "jWjxF1NUpRQu"
      }
    },
    {
      "cell_type": "code",
      "source": [
        "print(X.shape)\n",
        "print(y.shape)"
      ],
      "metadata": {
        "id": "sLTCK-gl8GqW"
      },
      "execution_count": null,
      "outputs": []
    },
    {
      "cell_type": "markdown",
      "source": [
        "#### **Split the data into `Training` and `Testing`**"
      ],
      "metadata": {
        "id": "Q4TNXRMs77r4"
      }
    },
    {
      "cell_type": "code",
      "source": [
        "from sklearn.model_selection import train_test_split\n",
        "\n",
        "\n",
        "X_train, X_test, y_train, y_test = train_test_split(X, y, test_size=0.2, random_state=42)\n",
        "X_train.shape, X_test.shape, y_train.shape, y_test.shape #Printing the shape to make sure there is nothing wrong"
      ],
      "metadata": {
        "id": "rZkT9bTmpU6c"
      },
      "execution_count": null,
      "outputs": []
    },
    {
      "cell_type": "markdown",
      "source": [
        "*Perfect!*"
      ],
      "metadata": {
        "id": "OEJUG6t0_smH"
      }
    },
    {
      "cell_type": "markdown",
      "source": [
        "---"
      ],
      "metadata": {
        "id": "rs3ILCixjFyU"
      }
    },
    {
      "cell_type": "markdown",
      "source": [
        "#### **Linear Regression**"
      ],
      "metadata": {
        "id": "FiPKjQ1ohsfx"
      }
    },
    {
      "cell_type": "code",
      "source": [
        "from sklearn.linear_model import LinearRegression\n",
        "model = LinearRegression()\n",
        "model.fit(X_train, y_train)"
      ],
      "metadata": {
        "id": "Pu6XpSHfhr50"
      },
      "execution_count": null,
      "outputs": []
    },
    {
      "cell_type": "code",
      "source": [
        "from sklearn.metrics import mean_absolute_error, mean_squared_error, r2_score\n",
        "\n",
        "\n",
        "# Make predictions on the testing data\n",
        "y_pred = model.predict(X_test)\n",
        "\n",
        "# Calculate evaluation metrics\n",
        "mae = mean_absolute_error(y_test, y_pred)\n",
        "mse = mean_squared_error(y_test, y_pred)\n",
        "rmse = mean_squared_error(y_test, y_pred, squared=False)\n",
        "r2 = r2_score(y_test, y_pred)\n",
        "\n",
        "# Print evaluation metrics\n",
        "print(\"Mean Absolute Error (MAE):\", mae)\n",
        "print(\"Mean Squared Error (MSE):\", mse)\n",
        "print(\"Root Mean Squared Error (RMSE):\", rmse)\n",
        "print(\"R-squared (R2) Score:\", r2)"
      ],
      "metadata": {
        "id": "OjMkKC3ch-RT"
      },
      "execution_count": null,
      "outputs": []
    },
    {
      "cell_type": "markdown",
      "source": [
        "Evaluation of `Linear Regression` is not bad, but I'll try another algorithms.\n",
        "\n",
        "---"
      ],
      "metadata": {
        "id": "Hyc0ySsNjIFj"
      }
    },
    {
      "cell_type": "markdown",
      "source": [
        "#### **RandomForestRegressor**"
      ],
      "metadata": {
        "id": "hMyDFl1dilmG"
      }
    },
    {
      "cell_type": "code",
      "source": [
        "from sklearn.ensemble import RandomForestRegressor\n",
        "\n",
        "rf_reg = RandomForestRegressor(n_estimators=450, max_depth=9, random_state=42, max_features='auto')\n",
        "rf_reg.fit(X_train, y_train)"
      ],
      "metadata": {
        "id": "aC0EvM_JhVPR"
      },
      "execution_count": null,
      "outputs": []
    },
    {
      "cell_type": "code",
      "source": [
        "# Make predictions on the testing data\n",
        "y_pred = rf_reg.predict(X_test)\n",
        "\n",
        "# Calculate evaluation metrics\n",
        "mae = mean_absolute_error(y_test, y_pred)\n",
        "mse = mean_squared_error(y_test, y_pred)\n",
        "rmse = mean_squared_error(y_test, y_pred, squared=False)\n",
        "r2 = r2_score(y_test, y_pred)\n",
        "\n",
        "# Print evaluation metrics\n",
        "print(\"Mean Absolute Error (MAE):\", mae)\n",
        "print(\"Mean Squared Error (MSE):\", mse)\n",
        "print(\"Root Mean Squared Error (RMSE):\", rmse)\n",
        "print(\"R-squared (R2) Score:\", r2)"
      ],
      "metadata": {
        "id": "yzPSoTNdiv0J"
      },
      "execution_count": null,
      "outputs": []
    },
    {
      "cell_type": "markdown",
      "source": [
        "##### **Hyperparameter Tuning - Grid Search**"
      ],
      "metadata": {
        "id": "ToYH0VSoNvBj"
      }
    },
    {
      "cell_type": "code",
      "source": [
        "from sklearn.model_selection import GridSearchCV\n",
        "\n",
        "\n",
        "# # define the parameter grid for GridSearchCV\n",
        "# param_grid = {'n_estimators': [50, 100, 150],\n",
        "#               'max_depth': [None, 5, 10, 15]}\n",
        "\n",
        "# # create a RandomForestRegressor instance\n",
        "# rf_reg = RandomForestRegressor()\n",
        "\n",
        "# # perform cross-validation using GridSearchCV\n",
        "# grid_search = GridSearchCV(rf_reg, param_grid=param_grid, cv=5)\n",
        "# grid_search.fit(X_train, y_train)\n",
        "\n",
        "# # get the best parameters and the best score from GridSearchCV\n",
        "# best_params = grid_search.best_params_\n",
        "# best_score = grid_search.best_score_\n",
        "\n",
        "# # use the best parameters to fit the model and make predictions on the test set\n",
        "# best_rf_reg = RandomForestRegressor(**best_params)\n",
        "# best_rf_reg.fit(X_train, y_train)\n",
        "# y_pred = best_rf_reg.predict(X_test)\n",
        "\n",
        "# # calculate the mean squared error\n",
        "# mse = mean_squared_error(y_test, y_pred)\n",
        "# print(\"Mean Squared Error:\", mse)"
      ],
      "metadata": {
        "id": "PanAJrDoXa4S"
      },
      "execution_count": null,
      "outputs": []
    },
    {
      "cell_type": "markdown",
      "source": [
        "I got a better evaluation on the `RandomForestRegressor` Model than the `LinearRegression` model. Still, I will try another algorithm, the `XGBoost`.\n",
        "\n",
        "---"
      ],
      "metadata": {
        "id": "vvAPr77wkdQU"
      }
    },
    {
      "cell_type": "markdown",
      "source": [
        "#### **XGBoost Model**"
      ],
      "metadata": {
        "id": "Xuw0Jz2Vdysk"
      }
    },
    {
      "cell_type": "code",
      "source": [
        "import xgboost as xgb"
      ],
      "metadata": {
        "id": "7PtuN_li_p8z"
      },
      "execution_count": null,
      "outputs": []
    },
    {
      "cell_type": "code",
      "source": [
        "# Train the XGBoost model\n",
        "xgb_reg = xgb.XGBRegressor(objective='reg:squarederror', n_estimators=143, max_depth=5, learning_rate=0.04, alpha=0.5, lambda_reg=0.1, random_state=42)\n",
        "xgb_reg.fit(X_train, y_train)"
      ],
      "metadata": {
        "id": "FsL0rxrfeF-h"
      },
      "execution_count": null,
      "outputs": []
    },
    {
      "cell_type": "markdown",
      "source": [
        "##### **Hyperparameter Tuning - Randomized Search & Grid Search**"
      ],
      "metadata": {
        "id": "QO6wdVEAh3wz"
      }
    },
    {
      "cell_type": "code",
      "source": [
        "from sklearn.model_selection import GridSearchCV #For the values of alpha and lambda_reg (Lasso & Ridge)\n",
        "\n",
        "# # Define the grid of hyperparameters to search\n",
        "# param_grid = {'alpha': [0, 0.1, 0.5, 1], 'reg_lambda': [0, 0.1, 0.5, 1]}\n",
        "\n",
        "# # Use GridSearchCV to search for the best values of alpha and lambda\n",
        "# grid_search = GridSearchCV(estimator=xgb_reg, param_grid=param_grid, cv=5, n_jobs=-1)\n",
        "# grid_search.fit(X_train, y_train)\n",
        "\n",
        "# # Print the best values of alpha and lambda found by GridSearchCV\n",
        "# print(\"Best alpha:\", grid_search.best_params_['alpha'])\n",
        "# print(\"Best lambda:\", grid_search.best_params_['reg_lambda'])\n",
        "\n",
        "# # Use the best values of alpha and lambda to create an XGBoost Regression model\n",
        "# best_xgb_reg = xgb.XGBRegressor(objective='reg:squarederror', n_estimators=143, max_depth=5, learning_rate=0.04, alpha=grid_search.best_params_['alpha'], reg_lambda=grid_search.best_params_['reg_lambda'], random_state=42)\n",
        "\n",
        "# # Fit the XGBoost Regression model to the training data\n",
        "# best_xgb_reg.fit(X_train, y_train)\n",
        "\n",
        "# # Make predictions on the testing data\n",
        "# y_pred = best_xgb_reg.predict(X_test)\n",
        "\n",
        "# # Evaluate the performance of the model using mean squared error\n",
        "# mse = mean_squared_error(y_test, y_pred)\n",
        "# print(\"Mean Squared Error:\", mse)"
      ],
      "metadata": {
        "id": "8tEQyMm5NWVS"
      },
      "execution_count": null,
      "outputs": []
    },
    {
      "cell_type": "code",
      "source": [
        "from sklearn.model_selection import RandomizedSearchCV #for n_estimators, max_depth, and other parameters ...\n",
        "\n",
        "# # define the parameter distribution for RandomizedSearchCV\n",
        "# param_dist = {'n_estimators': [100, 200, 300],\n",
        "#               'max_depth': [3, 5, 7],\n",
        "#               'learning_rate': [0.05, 0.1, 0.15],\n",
        "#               'subsample': [0.6, 0.8, 1],\n",
        "#               'colsample_bytree': [0.6, 0.8, 1],\n",
        "#               'gamma': [0, 1, 5]}\n",
        "\n",
        "# # create an XGBRegressor instance\n",
        "# xgb_reg = xgb.XGBRegressor(objective='reg:squarederror', random_state=42)\n",
        "\n",
        "# # perform randomized search using RandomizedSearchCV\n",
        "# random_search = RandomizedSearchCV(estimator=xgb_reg, param_distributions=param_dist, n_iter=100, cv=5, random_state=42)\n",
        "# random_search.fit(X_train, y_train)\n",
        "\n",
        "# # print the best hyperparameters\n",
        "# print(\"Best hyperparameters:\", random_search.best_params_)\n",
        "\n",
        "# # make predictions on the testing data using the best model\n",
        "# y_pred = random_search.predict(X_test)\n",
        "\n",
        "# # evaluate the performance of the model using mean squared error\n",
        "# mse = mean_squared_error(y_test, y_pred)\n",
        "# print(\"Mean Squared Error:\", mse)\n"
      ],
      "metadata": {
        "id": "m2qyqHOkiCJo"
      },
      "execution_count": null,
      "outputs": []
    },
    {
      "cell_type": "code",
      "source": [
        "# Make predictions on the testing data\n",
        "y_pred = xgb_reg.predict(X_test)\n",
        "\n",
        "# Evaluate the performance of the model using mean squared error\n",
        "mse = mean_squared_error(y_test, y_pred)\n",
        "print(\"Mean Squared Error:\", mse)"
      ],
      "metadata": {
        "id": "11GpMy58hLAB"
      },
      "execution_count": null,
      "outputs": []
    },
    {
      "cell_type": "markdown",
      "source": [
        "I got a better Evaluation using `XGBoost Regressor`! So I'll Choose the `xgb_reg` Model.\n",
        "\n",
        "---"
      ],
      "metadata": {
        "id": "zbxplNu6jnKa"
      }
    },
    {
      "cell_type": "markdown",
      "source": [
        "<img src=\"https://c4.wallpaperflare.com/wallpaper/793/738/376/pubg-video-games-helmet-reflection-wallpaper-preview.jpg\" alt=\"Paris\" style=\"display: block;margin-left: auto;margin-right: auto;width: 100%;\">"
      ],
      "metadata": {
        "id": "eGcNFjv29o1E"
      }
    }
  ]
}